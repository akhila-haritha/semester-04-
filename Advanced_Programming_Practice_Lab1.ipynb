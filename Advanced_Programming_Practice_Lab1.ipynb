{
  "nbformat": 4,
  "nbformat_minor": 0,
  "metadata": {
    "colab": {
      "provenance": [],
      "authorship_tag": "ABX9TyPDOULP/INlU8D51ydFoX2l",
      "include_colab_link": true
    },
    "kernelspec": {
      "name": "python3",
      "display_name": "Python 3"
    },
    "language_info": {
      "name": "python"
    }
  },
  "cells": [
    {
      "cell_type": "markdown",
      "metadata": {
        "id": "view-in-github",
        "colab_type": "text"
      },
      "source": [
        "<a href=\"https://colab.research.google.com/github/akhila-haritha/semester-04-/blob/main/Advanced_Programming_Practice_Lab1.ipynb\" target=\"_parent\"><img src=\"https://colab.research.google.com/assets/colab-badge.svg\" alt=\"Open In Colab\"/></a>"
      ]
    },
    {
      "cell_type": "markdown",
      "source": [
        "## SET 1"
      ],
      "metadata": {
        "id": "3FVcvJHTuRiJ"
      }
    },
    {
      "cell_type": "markdown",
      "source": [
        "Q-1"
      ],
      "metadata": {
        "id": "npf4-HhNuUG5"
      }
    },
    {
      "cell_type": "code",
      "execution_count": 3,
      "metadata": {
        "colab": {
          "base_uri": "https://localhost:8080/"
        },
        "id": "-teVNylNuHcM",
        "outputId": "52c2efae-ab1b-430b-882c-66dae4eef92c"
      },
      "outputs": [
        {
          "output_type": "stream",
          "name": "stdout",
          "text": [
            "3   4     5\n",
            "Pythagorean triplets\n"
          ]
        }
      ],
      "source": [
        "a,b,c = map(int,input().split())\n",
        "if a*a + b*b + c*c - max(a,b,c)**2 == max(a,b,c)**2:\n",
        "  print(\"Pythagorean triplets\")\n",
        "else:\n",
        "  print(\"Not Pythagorean triplets\")"
      ]
    },
    {
      "cell_type": "markdown",
      "source": [
        "Q-2"
      ],
      "metadata": {
        "id": "m7-mPMqqu6b7"
      }
    },
    {
      "cell_type": "code",
      "source": [
        "people = [ ]\n",
        "name= input()\n",
        "names = []\n",
        "salaries = []\n",
        "while name!=\"End\":\n",
        "  a = dict() \n",
        "  a[name] = int(input())\n",
        "  names.append(name)\n",
        "  salaries.append(a[name])\n",
        "  name = input()\n",
        "print(\"Avg: \",sum(salaries)/len(salaries))\n",
        "\n",
        "\n",
        "#Print who gets the highest salary and the salary\n",
        "#Print who gets the lowest salary and the salary\n"
      ],
      "metadata": {
        "colab": {
          "base_uri": "https://localhost:8080/"
        },
        "id": "ERQvDjzzu7gU",
        "outputId": "26f7f522-6b3a-4578-e20a-6c847018b026"
      },
      "execution_count": 13,
      "outputs": [
        {
          "output_type": "stream",
          "name": "stdout",
          "text": [
            "Lakshmi\n",
            "5\n",
            "Mahalakshmi\n",
            "10\n",
            "Gajalakshmi\n",
            "20\n",
            "Dhairyalakshmi\n",
            "30\n",
            "Aadilakshmi\n",
            "40\n",
            "Vidyalakshmi\n",
            "50\n",
            "End\n",
            "Avg:  25.833333333333332\n"
          ]
        }
      ]
    },
    {
      "cell_type": "markdown",
      "source": [
        "Q-3"
      ],
      "metadata": {
        "id": "MVj9ujn6vAuT"
      }
    },
    {
      "cell_type": "code",
      "source": [
        "for x in range(1,11):\n",
        "  print(x,'\\t',x**2,'\\t',x**3)\n",
        "  print( )"
      ],
      "metadata": {
        "colab": {
          "base_uri": "https://localhost:8080/"
        },
        "id": "5_IAe_6VvBoK",
        "outputId": "6d66d3e0-d386-4b10-90b8-adea3d2fb199"
      },
      "execution_count": 4,
      "outputs": [
        {
          "output_type": "stream",
          "name": "stdout",
          "text": [
            "1 \t 1 \t 1\n",
            "\n",
            "2 \t 4 \t 8\n",
            "\n",
            "3 \t 9 \t 27\n",
            "\n",
            "4 \t 16 \t 64\n",
            "\n",
            "5 \t 25 \t 125\n",
            "\n",
            "6 \t 36 \t 216\n",
            "\n",
            "7 \t 49 \t 343\n",
            "\n",
            "8 \t 64 \t 512\n",
            "\n",
            "9 \t 81 \t 729\n",
            "\n",
            "10 \t 100 \t 1000\n",
            "\n"
          ]
        }
      ]
    },
    {
      "cell_type": "markdown",
      "source": [
        "Q-4"
      ],
      "metadata": {
        "id": "NSZnparnvXbn"
      }
    },
    {
      "cell_type": "code",
      "source": [
        "word = input()\n"
      ],
      "metadata": {
        "id": "kIKLdkclvYdS"
      },
      "execution_count": null,
      "outputs": []
    }
  ]
}